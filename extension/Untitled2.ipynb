{
 "cells": [
  {
   "cell_type": "code",
   "execution_count": 2,
   "id": "73401c17-c384-4eef-beba-6b004abb8076",
   "metadata": {},
   "outputs": [],
   "source": [
    "fruit = \"apple\""
   ]
  },
  {
   "cell_type": "code",
   "execution_count": 3,
   "id": "2ec1d12e-c4de-4bfd-ac01-b2537042c61a",
   "metadata": {
    "hint": true,
    "revealed": true,
    "test": "test"
   },
   "outputs": [
    {
     "data": {
      "text/plain": [
       "2"
      ]
     },
     "execution_count": 3,
     "metadata": {},
     "output_type": "execute_result"
    }
   ],
   "source": [
    "1 + 1"
   ]
  },
  {
   "cell_type": "code",
   "execution_count": null,
   "id": "46ac948a-4440-415c-a985-907dc804f543",
   "metadata": {},
   "outputs": [],
   "source": []
  }
 ],
 "metadata": {
  "kernelspec": {
   "display_name": "Python 3 (ipykernel)",
   "language": "python",
   "name": "python3"
  },
  "language_info": {
   "codemirror_mode": {
    "name": "ipython",
    "version": 3
   },
   "file_extension": ".py",
   "mimetype": "text/x-python",
   "name": "python",
   "nbconvert_exporter": "python",
   "pygments_lexer": "ipython3",
   "version": "3.10.11"
  }
 },
 "nbformat": 4,
 "nbformat_minor": 5
}
