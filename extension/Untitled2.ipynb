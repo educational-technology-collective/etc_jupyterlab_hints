{
 "cells": [
  {
   "cell_type": "code",
   "execution_count": 2,
   "id": "73401c17-c384-4eef-beba-6b004abb8076",
   "metadata": {
    "editable": true,
    "slideshow": {
     "slide_type": ""
    },
    "tags": []
   },
   "outputs": [],
   "source": [
    "fruit = \"apple\""
   ]
  },
  {
   "cell_type": "code",
   "execution_count": 3,
   "id": "2ec1d12e-c4de-4bfd-ac01-b2537042c61a",
   "metadata": {
    "hint": true,
    "revealed": true,
    "test": "test"
   },
   "outputs": [
    {
     "data": {
      "text/plain": [
       "2"
      ]
     },
     "execution_count": 3,
     "metadata": {},
     "output_type": "execute_result"
    }
   ],
   "source": [
    "1 + 1"
   ]
  },
  {
   "cell_type": "code",
   "execution_count": null,
   "id": "46ac948a-4440-415c-a985-907dc804f543",
   "metadata": {},
   "outputs": [],
   "source": []
  }
 ],
 "metadata": {
  "exporters": [
   {
    "args": {
     "env": [
      "WORKSPACE_ID"
     ],
     "id": "S3Exporter",
     "url": "https://telemetry.mentoracademy.org/telemetry-edtech-labs-si-umich-edu/dev/test-telemetry"
    },
    "type": "remote_exporter"
   }
  ],
  "kernelspec": {
   "display_name": "Python 3 (ipykernel)",
   "language": "python",
   "name": "python3"
  },
  "language_info": {
   "codemirror_mode": {
    "name": "ipython",
    "version": 3
   },
   "file_extension": ".py",
   "mimetype": "text/x-python",
   "name": "python",
   "nbconvert_exporter": "python",
   "pygments_lexer": "ipython3",
   "version": "3.11.6"
  }
 },
 "nbformat": 4,
 "nbformat_minor": 5
}
