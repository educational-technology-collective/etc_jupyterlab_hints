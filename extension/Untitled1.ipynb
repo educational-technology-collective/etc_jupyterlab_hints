{
 "cells": [
  {
   "cell_type": "code",
   "execution_count": 3,
   "id": "717d3367-c524-4481-9b28-02a01640e867",
   "metadata": {
    "hint": true,
    "revealed": true
   },
   "outputs": [],
   "source": [
    "fruit = 'apple'"
   ]
  },
  {
   "cell_type": "raw",
   "id": "711aae06-9e38-489e-b3de-5762a9e9c7dd",
   "metadata": {},
   "source": [
    "1 + 1"
   ]
  },
  {
   "cell_type": "code",
   "execution_count": 4,
   "id": "cd193cb1-04c3-4fa7-aeb0-9011c92a18c5",
   "metadata": {
    "hint": true,
    "revealed": true
   },
   "outputs": [
    {
     "data": {
      "text/plain": [
       "'apple'"
      ]
     },
     "execution_count": 4,
     "metadata": {},
     "output_type": "execute_result"
    }
   ],
   "source": [
    "fruit"
   ]
  },
  {
   "cell_type": "code",
   "execution_count": 4,
   "id": "538c0cfe-8f12-4647-8b8d-4bc25c900f46",
   "metadata": {
    "hint": true,
    "revealed": false
   },
   "outputs": [
    {
     "data": {
      "text/plain": [
       "'apple'"
      ]
     },
     "execution_count": 4,
     "metadata": {},
     "output_type": "execute_result"
    }
   ],
   "source": [
    "fruit"
   ]
  },
  {
   "cell_type": "code",
   "execution_count": 5,
   "id": "e8102c4e-b83f-4c0f-86ce-e01fa90f841c",
   "metadata": {
    "hint": true,
    "revealed": true
   },
   "outputs": [],
   "source": [
    "str = 'string'"
   ]
  },
  {
   "cell_type": "code",
   "execution_count": null,
   "id": "cc89b8c8-39fd-4709-bb64-16e2707c5ca2",
   "metadata": {},
   "outputs": [],
   "source": []
  }
 ],
 "metadata": {
  "hint-used": false,
  "kernelspec": {
   "display_name": "Python 3 (ipykernel)",
   "language": "python",
   "name": "python3"
  },
  "language_info": {
   "codemirror_mode": {
    "name": "ipython",
    "version": 3
   },
   "file_extension": ".py",
   "mimetype": "text/x-python",
   "name": "python",
   "nbconvert_exporter": "python",
   "pygments_lexer": "ipython3",
   "version": "3.10.11"
  }
 },
 "nbformat": 4,
 "nbformat_minor": 5
}
