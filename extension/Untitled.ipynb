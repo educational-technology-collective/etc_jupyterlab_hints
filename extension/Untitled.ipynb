{
 "cells": [
  {
   "cell_type": "code",
   "execution_count": null,
   "id": "a2d217e0-1870-4958-8239-0adf1c06d0d2",
   "metadata": {
    "editable": true,
    "slideshow": {
     "slide_type": ""
    },
    "tags": []
   },
   "outputs": [],
   "source": [
    "qw"
   ]
  },
  {
   "cell_type": "code",
   "execution_count": null,
   "id": "e4d609cd-5b6f-446a-8265-0730b695d057",
   "metadata": {},
   "outputs": [],
   "source": [
    "apple\n"
   ]
  },
  {
   "cell_type": "raw",
   "id": "c7215782-09db-4e07-a058-db7447e3eaf8",
   "metadata": {
    "hint": true,
    "id": 1,
    "revealed": false
   },
   "source": [
    "banana"
   ]
  }
 ],
 "metadata": {
  "exporters": [
   {
    "type": "console_exporter"
   },
   {
    "args": {
     "env": [
      "WORKSPACE_ID"
     ],
     "id": "S3Exporter",
     "url": "https://telemetry.mentoracademy.org/telemetry-edtech-labs-si-umich-edu/dev/test-telemetry"
    },
    "type": "remote_exporter"
   }
  ],
  "hint-used": false,
  "kernelspec": {
   "display_name": "Python 3 (ipykernel)",
   "language": "python",
   "name": "python3"
  },
  "language_info": {
   "codemirror_mode": {
    "name": "ipython",
    "version": 3
   },
   "file_extension": ".py",
   "mimetype": "text/x-python",
   "name": "python",
   "nbconvert_exporter": "python",
   "pygments_lexer": "ipython3",
   "version": "3.11.6"
  }
 },
 "nbformat": 4,
 "nbformat_minor": 5
}
